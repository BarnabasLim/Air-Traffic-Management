{
 "cells": [
  {
   "cell_type": "markdown",
   "metadata": {},
   "source": [
    "## Extracting Data\n",
    "\n",
    "Easily extract tables from websites with pandas and python\n",
    "[![IMAGE ALT TEXT HERE](https://img.youtube.com/vi/OXA_ZD1gR6A/0.jpg)](https://www.youtube.com/watch?v=OXA_ZD1gR6A)\n",
    "source: https://www.youtube.com/watch?v=OXA_ZD1gR6A<br>\n",
    "\n",
    "Hint: Inspect source and click on desired table to identify table class"
   ]
  },
  {
   "cell_type": "markdown",
   "metadata": {},
   "source": [
    "<img src=\"img/WebscarpingTableClass.png\">"
   ]
  },
  {
   "cell_type": "code",
   "execution_count": 7,
   "metadata": {},
   "outputs": [
    {
     "name": "stdout",
     "output_type": "stream",
     "text": [
      "Extracted 2 tables\n"
     ]
    }
   ],
   "source": [
    "from pandas.io.html import read_html\n",
    "import pandas as pd\n",
    "#Extract tables of class:\"table-style1\"\n",
    "page='https://www.mot.gov.sg/about-mot/transport-safety-investigation-bureau/aaib/investigation-report/'\n",
    "tables=read_html(page, attrs={\"class\":\"table-style1\"})\n",
    "\n",
    "print(\"Extracted {num} tables\".format(num=len(tables)))\n",
    "\n"
   ]
  },
  {
   "cell_type": "code",
   "execution_count": 8,
   "metadata": {},
   "outputs": [
    {
     "data": {
      "text/html": [
       "<div>\n",
       "<style scoped>\n",
       "    .dataframe tbody tr th:only-of-type {\n",
       "        vertical-align: middle;\n",
       "    }\n",
       "\n",
       "    .dataframe tbody tr th {\n",
       "        vertical-align: top;\n",
       "    }\n",
       "\n",
       "    .dataframe thead th {\n",
       "        text-align: right;\n",
       "    }\n",
       "</style>\n",
       "<table border=\"1\" class=\"dataframe\">\n",
       "  <thead>\n",
       "    <tr style=\"text-align: right;\">\n",
       "      <th></th>\n",
       "      <th>Date</th>\n",
       "      <th>Classification</th>\n",
       "      <th>Aircraft</th>\n",
       "      <th>Description</th>\n",
       "    </tr>\n",
       "  </thead>\n",
       "  <tbody>\n",
       "    <tr>\n",
       "      <th>0</th>\n",
       "      <td>05 Jun 2019</td>\n",
       "      <td>Incident</td>\n",
       "      <td>Boeing B737-400</td>\n",
       "      <td>Main landing gear torsion link damage during l...</td>\n",
       "    </tr>\n",
       "  </tbody>\n",
       "</table>\n",
       "</div>"
      ],
      "text/plain": [
       "          Date Classification         Aircraft  \\\n",
       "0  05 Jun 2019       Incident  Boeing B737-400   \n",
       "\n",
       "                                         Description  \n",
       "0  Main landing gear torsion link damage during l...  "
      ]
     },
     "execution_count": 8,
     "metadata": {},
     "output_type": "execute_result"
    }
   ],
   "source": [
    "tables[0].head()"
   ]
  },
  {
   "cell_type": "code",
   "execution_count": 9,
   "metadata": {},
   "outputs": [
    {
     "data": {
      "text/html": [
       "<div>\n",
       "<style scoped>\n",
       "    .dataframe tbody tr th:only-of-type {\n",
       "        vertical-align: middle;\n",
       "    }\n",
       "\n",
       "    .dataframe tbody tr th {\n",
       "        vertical-align: top;\n",
       "    }\n",
       "\n",
       "    .dataframe thead th {\n",
       "        text-align: right;\n",
       "    }\n",
       "</style>\n",
       "<table border=\"1\" class=\"dataframe\">\n",
       "  <thead>\n",
       "    <tr style=\"text-align: right;\">\n",
       "      <th></th>\n",
       "      <th>Date</th>\n",
       "      <th>Classification</th>\n",
       "      <th>Aircraft</th>\n",
       "      <th>Description</th>\n",
       "    </tr>\n",
       "  </thead>\n",
       "  <tbody>\n",
       "    <tr>\n",
       "      <th>67</th>\n",
       "      <td>13 Dec 2002</td>\n",
       "      <td>Accident</td>\n",
       "      <td>DC8-62</td>\n",
       "      <td>Runway overrun (PDF, 325.68 KB)</td>\n",
       "    </tr>\n",
       "    <tr>\n",
       "      <th>68</th>\n",
       "      <td>12 Dec 2002</td>\n",
       "      <td>Incident</td>\n",
       "      <td>Boeing B737-300</td>\n",
       "      <td>Collision with maintenance jeep (PDF, 668.41 KB)</td>\n",
       "    </tr>\n",
       "    <tr>\n",
       "      <th>69</th>\n",
       "      <td>24 Jul 2002</td>\n",
       "      <td>Incident</td>\n",
       "      <td>Boeing B747-200F</td>\n",
       "      <td>In-flight engine fire incident (PDF, 2.32 MB)</td>\n",
       "    </tr>\n",
       "    <tr>\n",
       "      <th>70</th>\n",
       "      <td>28 Feb 2002</td>\n",
       "      <td>Accident</td>\n",
       "      <td>Arrow Air DC8-62</td>\n",
       "      <td>Taxiing into drain (PDF, 1.83 MB)</td>\n",
       "    </tr>\n",
       "    <tr>\n",
       "      <th>71</th>\n",
       "      <td>19 Oct 2000</td>\n",
       "      <td>Accident</td>\n",
       "      <td>Beech Super King Air 300</td>\n",
       "      <td>Landing Accident (PDF, 220.22 KB)</td>\n",
       "    </tr>\n",
       "  </tbody>\n",
       "</table>\n",
       "</div>"
      ],
      "text/plain": [
       "           Date Classification                  Aircraft  \\\n",
       "67  13 Dec 2002       Accident                    DC8-62   \n",
       "68  12 Dec 2002       Incident           Boeing B737-300   \n",
       "69  24 Jul 2002       Incident          Boeing B747-200F   \n",
       "70  28 Feb 2002       Accident          Arrow Air DC8-62   \n",
       "71  19 Oct 2000       Accident  Beech Super King Air 300   \n",
       "\n",
       "                                         Description  \n",
       "67                   Runway overrun (PDF, 325.68 KB)  \n",
       "68  Collision with maintenance jeep (PDF, 668.41 KB)  \n",
       "69     In-flight engine fire incident (PDF, 2.32 MB)  \n",
       "70                 Taxiing into drain (PDF, 1.83 MB)  \n",
       "71                 Landing Accident (PDF, 220.22 KB)  "
      ]
     },
     "execution_count": 9,
     "metadata": {},
     "output_type": "execute_result"
    }
   ],
   "source": [
    "tables[1].tail()"
   ]
  },
  {
   "cell_type": "markdown",
   "metadata": {},
   "source": [
    "## Data Processing\n",
    "\n",
    "Merge and convert to datetime object"
   ]
  },
  {
   "cell_type": "code",
   "execution_count": 15,
   "metadata": {},
   "outputs": [],
   "source": [
    "#Combine the two tables extracted\n",
    "frames = [tables[0], tables[1]]\n",
    "result = pd.concat(frames)\n",
    "#Parse column Date to_datetime\n",
    "result['Date']=pd.to_datetime(result['Date'])\n",
    "result"
   ]
  },
  {
   "cell_type": "markdown",
   "metadata": {},
   "source": [
    "## Plot Bar Chart\n",
    "\n",
    "Source: https://codeburst.io/plotting-with-pandas-dates-and-bar-plots-227f25351274"
   ]
  },
  {
   "cell_type": "code",
   "execution_count": 36,
   "metadata": {},
   "outputs": [
    {
     "data": {
      "text/html": [
       "<div>\n",
       "<style scoped>\n",
       "    .dataframe tbody tr th:only-of-type {\n",
       "        vertical-align: middle;\n",
       "    }\n",
       "\n",
       "    .dataframe tbody tr th {\n",
       "        vertical-align: top;\n",
       "    }\n",
       "\n",
       "    .dataframe thead th {\n",
       "        text-align: right;\n",
       "    }\n",
       "</style>\n",
       "<table border=\"1\" class=\"dataframe\">\n",
       "  <thead>\n",
       "    <tr style=\"text-align: right;\">\n",
       "      <th></th>\n",
       "      <th>year</th>\n",
       "      <th>n_incident</th>\n",
       "    </tr>\n",
       "  </thead>\n",
       "  <tbody>\n",
       "    <tr>\n",
       "      <th>0</th>\n",
       "      <td>2000</td>\n",
       "      <td>1</td>\n",
       "    </tr>\n",
       "    <tr>\n",
       "      <th>1</th>\n",
       "      <td>2002</td>\n",
       "      <td>4</td>\n",
       "    </tr>\n",
       "    <tr>\n",
       "      <th>2</th>\n",
       "      <td>2003</td>\n",
       "      <td>1</td>\n",
       "    </tr>\n",
       "    <tr>\n",
       "      <th>3</th>\n",
       "      <td>2004</td>\n",
       "      <td>2</td>\n",
       "    </tr>\n",
       "    <tr>\n",
       "      <th>4</th>\n",
       "      <td>2005</td>\n",
       "      <td>2</td>\n",
       "    </tr>\n",
       "  </tbody>\n",
       "</table>\n",
       "</div>"
      ],
      "text/plain": [
       "   year  n_incident\n",
       "0  2000           1\n",
       "1  2002           4\n",
       "2  2003           1\n",
       "3  2004           2\n",
       "4  2005           2"
      ]
     },
     "execution_count": 36,
     "metadata": {},
     "output_type": "execute_result"
    }
   ],
   "source": [
    "result['year'] = pd.DatetimeIndex(result['Date']).year\n",
    "result_grouped = (result.groupby(['year'])\n",
    "                .size()\n",
    "                .reset_index(name=\"n_incident\"))\n",
    "result_grouped.head()\n"
   ]
  },
  {
   "cell_type": "code",
   "execution_count": 34,
   "metadata": {},
   "outputs": [
    {
     "data": {
      "image/png": "[encoded data removed]",
      "text/plain": [
       "<Figure size 432x288 with 1 Axes>"
      ]
     },
     "metadata": {
      "needs_background": "light"
     },
     "output_type": "display_data"
    }
   ],
   "source": [
    "result_grouped.plot.bar(x=\"year\", y=\"n_incident\", color='blue');"
   ]
  },
  {
   "cell_type": "markdown",
   "metadata": {},
   "source": [
    "## Plot Pie Chart\n",
    "\n",
    "Source: https://pandas.pydata.org/pandas-docs/stable/reference/api/pandas.DataFrame.plot.pie.html"
   ]
  },
  {
   "cell_type": "code",
   "execution_count": 38,
   "metadata": {},
   "outputs": [
    {
     "data": {
      "text/html": [
       "<div>\n",
       "<style scoped>\n",
       "    .dataframe tbody tr th:only-of-type {\n",
       "        vertical-align: middle;\n",
       "    }\n",
       "\n",
       "    .dataframe tbody tr th {\n",
       "        vertical-align: top;\n",
       "    }\n",
       "\n",
       "    .dataframe thead th {\n",
       "        text-align: right;\n",
       "    }\n",
       "</style>\n",
       "<table border=\"1\" class=\"dataframe\">\n",
       "  <thead>\n",
       "    <tr style=\"text-align: right;\">\n",
       "      <th></th>\n",
       "      <th>Classification</th>\n",
       "      <th>Frequency</th>\n",
       "    </tr>\n",
       "    <tr>\n",
       "      <th>Classification</th>\n",
       "      <th></th>\n",
       "      <th></th>\n",
       "    </tr>\n",
       "  </thead>\n",
       "  <tbody>\n",
       "    <tr>\n",
       "      <th>Accident</th>\n",
       "      <td>Accident</td>\n",
       "      <td>15</td>\n",
       "    </tr>\n",
       "    <tr>\n",
       "      <th>Incident</th>\n",
       "      <td>Incident</td>\n",
       "      <td>58</td>\n",
       "    </tr>\n",
       "  </tbody>\n",
       "</table>\n",
       "</div>"
      ],
      "text/plain": [
       "               Classification  Frequency\n",
       "Classification                          \n",
       "Accident             Accident         15\n",
       "Incident             Incident         58"
      ]
     },
     "execution_count": 38,
     "metadata": {},
     "output_type": "execute_result"
    }
   ],
   "source": [
    "result_grouped2 = (result.groupby(['Classification'])\n",
    "                .size()\n",
    "                .reset_index(name=\"Frequency\"))\n",
    "result_grouped2.set_index('Classification')\n",
    "result_grouped2.index=result_grouped2 ['Classification']\n",
    "result_grouped2"
   ]
  },
  {
   "cell_type": "code",
   "execution_count": 39,
   "metadata": {},
   "outputs": [
    {
     "data": {
      "image/png": "[encoded data removed]",
      "text/plain": [
       "<Figure size 360x360 with 1 Axes>"
      ]
     },
     "metadata": {},
     "output_type": "display_data"
    }
   ],
   "source": [
    "#result_grouped2.plot.bar(x=\"year\", y=\"n_incident\", color='blue');\n",
    "plot = result_grouped2.plot.pie(y='Frequency', x='Classification',figsize=(5, 5))"
   ]
  },
  {
   "cell_type": "markdown",
   "metadata": {},
   "source": [
    "<code>\n",
    "Python\n",
    "str = \"This is a block level code\"\n",
    "print(str)\n",
    "</code>\n",
    "\n",
    "```Python\n",
    "str = \"This is block level code\"\n",
    "print(str)\n",
    "```"
   ]
  },
  {
   "cell_type": "code",
   "execution_count": null,
   "metadata": {},
   "outputs": [],
   "source": []
  }
 ],
 "metadata": {
  "kernelspec": {
   "display_name": "Python 3",
   "language": "python",
   "name": "python3"
  },
  "language_info": {
   "codemirror_mode": {
    "name": "ipython",
    "version": 3
   },
   "file_extension": ".py",
   "mimetype": "text/x-python",
   "name": "python",
   "nbconvert_exporter": "python",
   "pygments_lexer": "ipython3",
   "version": "3.7.3"
  }
 },
 "nbformat": 4,
 "nbformat_minor": 2
}
